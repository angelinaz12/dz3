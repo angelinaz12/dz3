{
 "cells": [
  {
   "cell_type": "code",
   "execution_count": 1,
   "metadata": {},
   "outputs": [
    {
     "name": "stdout",
     "output_type": "stream",
     "text": [
      "[98, 35, 15, 213, 54, 119]\n"
     ]
    }
   ],
   "source": [
    "#Задание 1\n",
    "\"\"\"\n",
    "Дана переменная, в которой хранится словарь, содержащий гео-метки для каждого пользователя. \n",
    "Вам необходимо написать программу, которая выведет на экран множество уникальных гео-меток всех пользователей.\n",
    "Результат: {98, 35, 15, 213, 54, 119}\"\"\"\n",
    "\n",
    "ids = {'user1': [213, 213, 213, 15, 213],\n",
    "'user2': [54, 54, 119, 119, 119],\n",
    "'user3': [213, 98, 98, 35]}\n",
    "uniq_ids = set()\n",
    "for value in ids.values():\n",
    "    for val in value:\n",
    "        uniq_ids.add(val)\n",
    "print(list(uniq_ids))\n"
   ]
  },
  {
   "cell_type": "code",
   "execution_count": null,
   "metadata": {},
   "outputs": [],
   "source": []
  },
  {
   "cell_type": "code",
   "execution_count": 24,
   "metadata": {},
   "outputs": [
    {
     "name": "stdout",
     "output_type": "stream",
     "text": [
      "Поисковых запросов из 3 слова: 66.67 % \n",
      "Поисковых запросов из 2 слова: 33.33 % \n"
     ]
    }
   ],
   "source": [
    "#Задание 2\n",
    "\"\"\"Вам необходимо написать программу, которая выведет на экран распределение количества \n",
    "слов в запросах в требуемом виде.\n",
    "Результат:\n",
    "Поисковых запросов, содержащих 2 слов(а): 42.86%\n",
    "Поисковых запросов, содержащих 3 слов(а): 57.14% \"\"\"\n",
    "\n",
    "\n",
    "queries = [\n",
    "'смотреть сериалы онлайн',\n",
    "'новости спорта',\n",
    "'афиша кино',\n",
    "'курс доллара',\n",
    "'сериалы этим летом',\n",
    "'курс по питону',\n",
    "'сериалы этим летом',\n",
    "'курс по питону',\n",
    "'сериалы про спорт',\n",
    "]\n",
    "\n",
    "storage = {}\n",
    "\n",
    "for query in queries:\n",
    "    words = query.split()\n",
    "\n",
    "    if len(words) in storage.keys():\n",
    "        storage[len(words)] += 1\n",
    "    else:\n",
    "        storage.update({\n",
    "            len(words): 1\n",
    "        })\n",
    "\n",
    "for key, value in storage.items():\n",
    "    percentage = round((value / len(queries)) * 100, 2)\n",
    "    print(f'Поисковых запросов из {key} слова: {percentage} % ')"
   ]
  },
  {
   "cell_type": "code",
   "execution_count": 111,
   "metadata": {},
   "outputs": [
    {
     "data": {
      "text/plain": [
       "{'vk': {'revenue': 103, 'cost': 98, 'ROI': 5.1},\n",
       " 'yandex': {'revenue': 179, 'cost': 153, 'ROI': 16.99},\n",
       " 'facebook': {'revenue': 103, 'cost': 110, 'ROI': -6.36},\n",
       " 'adwords': {'revenue': 35, 'cost': 34, 'ROI': 2.94},\n",
       " 'twitter': {'revenue': 11, 'cost': 24, 'ROI': -54.17}}"
      ]
     },
     "execution_count": 111,
     "metadata": {},
     "output_type": "execute_result"
    }
   ],
   "source": [
    " #задание 3\n",
    "\"\"\"\n",
    "Дана переменная, в которой хранится информация о затратах и доходе рекламных кампаний по различным источникам. \n",
    "Необходимо дополнить исходную структуру показателем ROI, который рассчитаем по формуле: (revenue / cost - 1) * 100\"\"\"\n",
    "\n",
    "\n",
    "results = {\n",
    "'vk': {'revenue': 103, 'cost': 98},\n",
    "'yandex': {'revenue': 179, 'cost': 153},\n",
    "'facebook': {'revenue': 103, 'cost': 110},\n",
    "'adwords': {'revenue': 35, 'cost': 34},\n",
    "'twitter': {'revenue': 11, 'cost': 24},\n",
    "}\n",
    "for value in results.values():\n",
    "    value['ROI']=round(((value['revenue'] / value['cost'] - 1) * 100), 2)\n",
    "    \n",
    "results"
   ]
  },
  {
   "cell_type": "code",
   "execution_count": 119,
   "metadata": {},
   "outputs": [
    {
     "name": "stdout",
     "output_type": "stream",
     "text": [
      "Макимальный объем продаж на канале: vk\n"
     ]
    }
   ],
   "source": [
    "#Задание 4\n",
    "\"\"\"Дана переменная, в которой хранится статистика рекламных каналов по объемам продаж \n",
    "(пример структуры данных приведен ниже). \n",
    "Напишите программу, которая возвращает название канала с максимальным объемом продаж. Ответ:vk\"\"\" \n",
    "\n",
    "stats = {'facebook': 55, 'yandex': 115, 'vk': 120, 'google': 99, 'email': 42, 'ok': 98}\n",
    "\n",
    "max_chan = ''\n",
    "for chan in stats.keys():\n",
    "    if stats[chan]> stats.get(max_chan,0):\n",
    "        max_chan = chan\n",
    "    \n",
    "print('Макимальный объем продаж на канале:',max_chan)\n",
    "\n"
   ]
  },
  {
   "cell_type": "code",
   "execution_count": null,
   "metadata": {},
   "outputs": [],
   "source": []
  },
  {
   "cell_type": "code",
   "execution_count": null,
   "metadata": {},
   "outputs": [],
   "source": []
  }
 ],
 "metadata": {
  "kernelspec": {
   "display_name": "Python 3",
   "language": "python",
   "name": "python3"
  },
  "language_info": {
   "codemirror_mode": {
    "name": "ipython",
    "version": 3
   },
   "file_extension": ".py",
   "mimetype": "text/x-python",
   "name": "python",
   "nbconvert_exporter": "python",
   "pygments_lexer": "ipython3",
   "version": "3.8.5"
  }
 },
 "nbformat": 4,
 "nbformat_minor": 4
}
